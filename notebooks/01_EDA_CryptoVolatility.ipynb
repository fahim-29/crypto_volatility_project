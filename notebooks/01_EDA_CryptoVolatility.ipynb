{
 "cells": [
  {
   "cell_type": "code",
   "execution_count": null,
   "id": "0e4a11db",
   "metadata": {},
   "outputs": [],
   "source": [
    "\n",
    "# Basic imports\n",
    "import numpy as np\n",
    "import pandas as pd\n",
    "import matplotlib.pyplot as plt\n",
    "import seaborn as sns\n",
    "\n",
    "# Optional: set plotting style\n",
    "sns.set(style=\"whitegrid\")\n",
    "%matplotlib inline\n",
    "\n",
    "# Display options\n",
    "pd.set_option('display.max_columns', None)\n",
    "pd.set_option('display.max_rows', 100)\n",
    "\n"
   ]
  },
  {
   "cell_type": "code",
   "execution_count": 20,
   "id": "3a319d6f",
   "metadata": {},
   "outputs": [
    {
     "name": "stdout",
     "output_type": "stream",
     "text": [
      "Current working directory: /Users/macfreaks/crypto_volatility/notebooks\n",
      "Files in data folder: ['crypto_prices.csv']\n"
     ]
    },
    {
     "data": {
      "text/html": [
       "<div>\n",
       "<style scoped>\n",
       "    .dataframe tbody tr th:only-of-type {\n",
       "        vertical-align: middle;\n",
       "    }\n",
       "\n",
       "    .dataframe tbody tr th {\n",
       "        vertical-align: top;\n",
       "    }\n",
       "\n",
       "    .dataframe thead th {\n",
       "        text-align: right;\n",
       "    }\n",
       "</style>\n",
       "<table border=\"1\" class=\"dataframe\">\n",
       "  <thead>\n",
       "    <tr style=\"text-align: right;\">\n",
       "      <th></th>\n",
       "      <th>Unnamed: 0</th>\n",
       "      <th>open</th>\n",
       "      <th>high</th>\n",
       "      <th>low</th>\n",
       "      <th>close</th>\n",
       "      <th>volume</th>\n",
       "      <th>marketCap</th>\n",
       "      <th>timestamp</th>\n",
       "      <th>crypto_name</th>\n",
       "      <th>date</th>\n",
       "    </tr>\n",
       "  </thead>\n",
       "  <tbody>\n",
       "    <tr>\n",
       "      <th>0</th>\n",
       "      <td>0</td>\n",
       "      <td>112.900002</td>\n",
       "      <td>118.800003</td>\n",
       "      <td>107.142998</td>\n",
       "      <td>115.910004</td>\n",
       "      <td>0.0</td>\n",
       "      <td>1.288693e+09</td>\n",
       "      <td>2013-05-05T23:59:59.999Z</td>\n",
       "      <td>Bitcoin</td>\n",
       "      <td>2013-05-05</td>\n",
       "    </tr>\n",
       "    <tr>\n",
       "      <th>1</th>\n",
       "      <td>1</td>\n",
       "      <td>3.493130</td>\n",
       "      <td>3.692460</td>\n",
       "      <td>3.346060</td>\n",
       "      <td>3.590890</td>\n",
       "      <td>0.0</td>\n",
       "      <td>6.229819e+07</td>\n",
       "      <td>2013-05-05T23:59:59.999Z</td>\n",
       "      <td>Litecoin</td>\n",
       "      <td>2013-05-05</td>\n",
       "    </tr>\n",
       "    <tr>\n",
       "      <th>2</th>\n",
       "      <td>2</td>\n",
       "      <td>115.980003</td>\n",
       "      <td>124.663002</td>\n",
       "      <td>106.639999</td>\n",
       "      <td>112.300003</td>\n",
       "      <td>0.0</td>\n",
       "      <td>1.249023e+09</td>\n",
       "      <td>2013-05-06T23:59:59.999Z</td>\n",
       "      <td>Bitcoin</td>\n",
       "      <td>2013-05-06</td>\n",
       "    </tr>\n",
       "    <tr>\n",
       "      <th>3</th>\n",
       "      <td>3</td>\n",
       "      <td>3.594220</td>\n",
       "      <td>3.781020</td>\n",
       "      <td>3.116020</td>\n",
       "      <td>3.371250</td>\n",
       "      <td>0.0</td>\n",
       "      <td>5.859436e+07</td>\n",
       "      <td>2013-05-06T23:59:59.999Z</td>\n",
       "      <td>Litecoin</td>\n",
       "      <td>2013-05-06</td>\n",
       "    </tr>\n",
       "    <tr>\n",
       "      <th>4</th>\n",
       "      <td>4</td>\n",
       "      <td>112.250000</td>\n",
       "      <td>113.444000</td>\n",
       "      <td>97.699997</td>\n",
       "      <td>111.500000</td>\n",
       "      <td>0.0</td>\n",
       "      <td>1.240594e+09</td>\n",
       "      <td>2013-05-07T23:59:59.999Z</td>\n",
       "      <td>Bitcoin</td>\n",
       "      <td>2013-05-07</td>\n",
       "    </tr>\n",
       "  </tbody>\n",
       "</table>\n",
       "</div>"
      ],
      "text/plain": [
       "   Unnamed: 0        open        high         low       close  volume  \\\n",
       "0           0  112.900002  118.800003  107.142998  115.910004     0.0   \n",
       "1           1    3.493130    3.692460    3.346060    3.590890     0.0   \n",
       "2           2  115.980003  124.663002  106.639999  112.300003     0.0   \n",
       "3           3    3.594220    3.781020    3.116020    3.371250     0.0   \n",
       "4           4  112.250000  113.444000   97.699997  111.500000     0.0   \n",
       "\n",
       "      marketCap                 timestamp crypto_name        date  \n",
       "0  1.288693e+09  2013-05-05T23:59:59.999Z     Bitcoin  2013-05-05  \n",
       "1  6.229819e+07  2013-05-05T23:59:59.999Z    Litecoin  2013-05-05  \n",
       "2  1.249023e+09  2013-05-06T23:59:59.999Z     Bitcoin  2013-05-06  \n",
       "3  5.859436e+07  2013-05-06T23:59:59.999Z    Litecoin  2013-05-06  \n",
       "4  1.240594e+09  2013-05-07T23:59:59.999Z     Bitcoin  2013-05-07  "
      ]
     },
     "execution_count": 20,
     "metadata": {},
     "output_type": "execute_result"
    }
   ],
   "source": [
    "import os\n",
    "# Check current working directory\n",
    "print(\"Current working directory:\", os.getcwd())\n",
    "\n",
    "# Check files in data folder\n",
    "print(\"Files in data folder:\", os.listdir('../data')) \n",
    "\n",
    "# Load dataset\n",
    "crypto = pd.read_csv('../data/crypto_prices.csv') \n",
    "crypto.head()\n",
    "\n"
   ]
  },
  {
   "cell_type": "code",
   "execution_count": 14,
   "id": "d0e29327",
   "metadata": {},
   "outputs": [
    {
     "name": "stdout",
     "output_type": "stream",
     "text": [
      "<class 'pandas.core.frame.DataFrame'>\n",
      "RangeIndex: 72946 entries, 0 to 72945\n",
      "Data columns (total 10 columns):\n",
      " #   Column       Non-Null Count  Dtype  \n",
      "---  ------       --------------  -----  \n",
      " 0   Unnamed: 0   72946 non-null  int64  \n",
      " 1   open         72946 non-null  float64\n",
      " 2   high         72946 non-null  float64\n",
      " 3   low          72946 non-null  float64\n",
      " 4   close        72946 non-null  float64\n",
      " 5   volume       72946 non-null  float64\n",
      " 6   marketCap    72946 non-null  float64\n",
      " 7   timestamp    72946 non-null  object \n",
      " 8   crypto_name  72946 non-null  object \n",
      " 9   date         72946 non-null  object \n",
      "dtypes: float64(6), int64(1), object(3)\n",
      "memory usage: 5.6+ MB\n"
     ]
    },
    {
     "data": {
      "text/plain": [
       "(None, (72946, 10))"
      ]
     },
     "execution_count": 14,
     "metadata": {},
     "output_type": "execute_result"
    }
   ],
   "source": [
    "crypto.info() ,crypto.shape\n",
    "\n"
   ]
  },
  {
   "cell_type": "code",
   "execution_count": 15,
   "id": "25b2acca",
   "metadata": {},
   "outputs": [
    {
     "data": {
      "text/html": [
       "<div>\n",
       "<style scoped>\n",
       "    .dataframe tbody tr th:only-of-type {\n",
       "        vertical-align: middle;\n",
       "    }\n",
       "\n",
       "    .dataframe tbody tr th {\n",
       "        vertical-align: top;\n",
       "    }\n",
       "\n",
       "    .dataframe thead th {\n",
       "        text-align: right;\n",
       "    }\n",
       "</style>\n",
       "<table border=\"1\" class=\"dataframe\">\n",
       "  <thead>\n",
       "    <tr style=\"text-align: right;\">\n",
       "      <th></th>\n",
       "      <th>Unnamed: 0</th>\n",
       "      <th>open</th>\n",
       "      <th>high</th>\n",
       "      <th>low</th>\n",
       "      <th>close</th>\n",
       "      <th>volume</th>\n",
       "      <th>marketCap</th>\n",
       "    </tr>\n",
       "  </thead>\n",
       "  <tbody>\n",
       "    <tr>\n",
       "      <th>count</th>\n",
       "      <td>72946.000000</td>\n",
       "      <td>72946.000000</td>\n",
       "      <td>7.294600e+04</td>\n",
       "      <td>72946.000000</td>\n",
       "      <td>7.294600e+04</td>\n",
       "      <td>7.294600e+04</td>\n",
       "      <td>7.294600e+04</td>\n",
       "    </tr>\n",
       "    <tr>\n",
       "      <th>mean</th>\n",
       "      <td>36472.500000</td>\n",
       "      <td>870.194495</td>\n",
       "      <td>8.964124e+02</td>\n",
       "      <td>844.060640</td>\n",
       "      <td>8.712949e+02</td>\n",
       "      <td>2.207607e+09</td>\n",
       "      <td>1.474922e+10</td>\n",
       "    </tr>\n",
       "    <tr>\n",
       "      <th>std</th>\n",
       "      <td>21057.840705</td>\n",
       "      <td>5231.654470</td>\n",
       "      <td>5.398613e+03</td>\n",
       "      <td>5079.389387</td>\n",
       "      <td>5.235508e+03</td>\n",
       "      <td>9.617885e+09</td>\n",
       "      <td>7.501159e+10</td>\n",
       "    </tr>\n",
       "    <tr>\n",
       "      <th>min</th>\n",
       "      <td>0.000000</td>\n",
       "      <td>0.000000</td>\n",
       "      <td>1.022100e-10</td>\n",
       "      <td>0.000000</td>\n",
       "      <td>8.292000e-11</td>\n",
       "      <td>0.000000e+00</td>\n",
       "      <td>0.000000e+00</td>\n",
       "    </tr>\n",
       "    <tr>\n",
       "      <th>25%</th>\n",
       "      <td>18236.250000</td>\n",
       "      <td>0.167916</td>\n",
       "      <td>1.767999e-01</td>\n",
       "      <td>0.158630</td>\n",
       "      <td>1.682982e-01</td>\n",
       "      <td>8.320618e+06</td>\n",
       "      <td>1.860432e+08</td>\n",
       "    </tr>\n",
       "    <tr>\n",
       "      <th>50%</th>\n",
       "      <td>36472.500000</td>\n",
       "      <td>1.630666</td>\n",
       "      <td>1.717542e+00</td>\n",
       "      <td>1.541486</td>\n",
       "      <td>1.640219e+00</td>\n",
       "      <td>1.098756e+08</td>\n",
       "      <td>1.268539e+09</td>\n",
       "    </tr>\n",
       "    <tr>\n",
       "      <th>75%</th>\n",
       "      <td>54708.750000</td>\n",
       "      <td>26.070557</td>\n",
       "      <td>2.756868e+01</td>\n",
       "      <td>24.791776</td>\n",
       "      <td>2.625195e+01</td>\n",
       "      <td>6.691398e+08</td>\n",
       "      <td>5.118618e+09</td>\n",
       "    </tr>\n",
       "    <tr>\n",
       "      <th>max</th>\n",
       "      <td>72945.000000</td>\n",
       "      <td>67549.735581</td>\n",
       "      <td>1.621883e+05</td>\n",
       "      <td>66458.723733</td>\n",
       "      <td>6.756683e+04</td>\n",
       "      <td>3.509679e+11</td>\n",
       "      <td>1.274831e+12</td>\n",
       "    </tr>\n",
       "  </tbody>\n",
       "</table>\n",
       "</div>"
      ],
      "text/plain": [
       "         Unnamed: 0          open          high           low         close  \\\n",
       "count  72946.000000  72946.000000  7.294600e+04  72946.000000  7.294600e+04   \n",
       "mean   36472.500000    870.194495  8.964124e+02    844.060640  8.712949e+02   \n",
       "std    21057.840705   5231.654470  5.398613e+03   5079.389387  5.235508e+03   \n",
       "min        0.000000      0.000000  1.022100e-10      0.000000  8.292000e-11   \n",
       "25%    18236.250000      0.167916  1.767999e-01      0.158630  1.682982e-01   \n",
       "50%    36472.500000      1.630666  1.717542e+00      1.541486  1.640219e+00   \n",
       "75%    54708.750000     26.070557  2.756868e+01     24.791776  2.625195e+01   \n",
       "max    72945.000000  67549.735581  1.621883e+05  66458.723733  6.756683e+04   \n",
       "\n",
       "             volume     marketCap  \n",
       "count  7.294600e+04  7.294600e+04  \n",
       "mean   2.207607e+09  1.474922e+10  \n",
       "std    9.617885e+09  7.501159e+10  \n",
       "min    0.000000e+00  0.000000e+00  \n",
       "25%    8.320618e+06  1.860432e+08  \n",
       "50%    1.098756e+08  1.268539e+09  \n",
       "75%    6.691398e+08  5.118618e+09  \n",
       "max    3.509679e+11  1.274831e+12  "
      ]
     },
     "execution_count": 15,
     "metadata": {},
     "output_type": "execute_result"
    }
   ],
   "source": [
    "crypto.describe()  # for numeric columns\n"
   ]
  },
  {
   "cell_type": "code",
   "execution_count": 23,
   "id": "beeb9fef",
   "metadata": {},
   "outputs": [
    {
     "data": {
      "text/plain": [
       "Index(['open', 'high', 'low', 'close', 'volume', 'marketCap', 'timestamp',\n",
       "       'crypto_name', 'date'],\n",
       "      dtype='object')"
      ]
     },
     "execution_count": 23,
     "metadata": {},
     "output_type": "execute_result"
    }
   ],
   "source": [
    "crypto.columns\n"
   ]
  },
  {
   "cell_type": "code",
   "execution_count": null,
   "id": "6605e3bd",
   "metadata": {},
   "outputs": [],
   "source": []
  },
  {
   "cell_type": "markdown",
   "id": "052e0848",
   "metadata": {},
   "source": [
    "### Data Cleaning"
   ]
  },
  {
   "cell_type": "code",
   "execution_count": null,
   "id": "6284f39f",
   "metadata": {},
   "outputs": [],
   "source": [
    "# Remove unnecessary columns (like Unnamed: 0):\n",
    "\n",
    "crypto = crypto.drop(columns=['Unnamed: 0'])\n"
   ]
  },
  {
   "cell_type": "code",
   "execution_count": 24,
   "id": "6e2a775e",
   "metadata": {},
   "outputs": [
    {
     "data": {
      "text/html": [
       "<div>\n",
       "<style scoped>\n",
       "    .dataframe tbody tr th:only-of-type {\n",
       "        vertical-align: middle;\n",
       "    }\n",
       "\n",
       "    .dataframe tbody tr th {\n",
       "        vertical-align: top;\n",
       "    }\n",
       "\n",
       "    .dataframe thead th {\n",
       "        text-align: right;\n",
       "    }\n",
       "</style>\n",
       "<table border=\"1\" class=\"dataframe\">\n",
       "  <thead>\n",
       "    <tr style=\"text-align: right;\">\n",
       "      <th></th>\n",
       "      <th>open</th>\n",
       "      <th>high</th>\n",
       "      <th>low</th>\n",
       "      <th>close</th>\n",
       "      <th>volume</th>\n",
       "      <th>marketCap</th>\n",
       "      <th>timestamp</th>\n",
       "      <th>crypto_name</th>\n",
       "      <th>date</th>\n",
       "    </tr>\n",
       "  </thead>\n",
       "  <tbody>\n",
       "    <tr>\n",
       "      <th>0</th>\n",
       "      <td>112.900002</td>\n",
       "      <td>118.800003</td>\n",
       "      <td>107.142998</td>\n",
       "      <td>115.910004</td>\n",
       "      <td>0.0</td>\n",
       "      <td>1.288693e+09</td>\n",
       "      <td>2013-05-05T23:59:59.999Z</td>\n",
       "      <td>Bitcoin</td>\n",
       "      <td>2013-05-05</td>\n",
       "    </tr>\n",
       "    <tr>\n",
       "      <th>1</th>\n",
       "      <td>3.493130</td>\n",
       "      <td>3.692460</td>\n",
       "      <td>3.346060</td>\n",
       "      <td>3.590890</td>\n",
       "      <td>0.0</td>\n",
       "      <td>6.229819e+07</td>\n",
       "      <td>2013-05-05T23:59:59.999Z</td>\n",
       "      <td>Litecoin</td>\n",
       "      <td>2013-05-05</td>\n",
       "    </tr>\n",
       "    <tr>\n",
       "      <th>2</th>\n",
       "      <td>115.980003</td>\n",
       "      <td>124.663002</td>\n",
       "      <td>106.639999</td>\n",
       "      <td>112.300003</td>\n",
       "      <td>0.0</td>\n",
       "      <td>1.249023e+09</td>\n",
       "      <td>2013-05-06T23:59:59.999Z</td>\n",
       "      <td>Bitcoin</td>\n",
       "      <td>2013-05-06</td>\n",
       "    </tr>\n",
       "    <tr>\n",
       "      <th>3</th>\n",
       "      <td>3.594220</td>\n",
       "      <td>3.781020</td>\n",
       "      <td>3.116020</td>\n",
       "      <td>3.371250</td>\n",
       "      <td>0.0</td>\n",
       "      <td>5.859436e+07</td>\n",
       "      <td>2013-05-06T23:59:59.999Z</td>\n",
       "      <td>Litecoin</td>\n",
       "      <td>2013-05-06</td>\n",
       "    </tr>\n",
       "    <tr>\n",
       "      <th>4</th>\n",
       "      <td>112.250000</td>\n",
       "      <td>113.444000</td>\n",
       "      <td>97.699997</td>\n",
       "      <td>111.500000</td>\n",
       "      <td>0.0</td>\n",
       "      <td>1.240594e+09</td>\n",
       "      <td>2013-05-07T23:59:59.999Z</td>\n",
       "      <td>Bitcoin</td>\n",
       "      <td>2013-05-07</td>\n",
       "    </tr>\n",
       "  </tbody>\n",
       "</table>\n",
       "</div>"
      ],
      "text/plain": [
       "         open        high         low       close  volume     marketCap  \\\n",
       "0  112.900002  118.800003  107.142998  115.910004     0.0  1.288693e+09   \n",
       "1    3.493130    3.692460    3.346060    3.590890     0.0  6.229819e+07   \n",
       "2  115.980003  124.663002  106.639999  112.300003     0.0  1.249023e+09   \n",
       "3    3.594220    3.781020    3.116020    3.371250     0.0  5.859436e+07   \n",
       "4  112.250000  113.444000   97.699997  111.500000     0.0  1.240594e+09   \n",
       "\n",
       "                  timestamp crypto_name        date  \n",
       "0  2013-05-05T23:59:59.999Z     Bitcoin  2013-05-05  \n",
       "1  2013-05-05T23:59:59.999Z    Litecoin  2013-05-05  \n",
       "2  2013-05-06T23:59:59.999Z     Bitcoin  2013-05-06  \n",
       "3  2013-05-06T23:59:59.999Z    Litecoin  2013-05-06  \n",
       "4  2013-05-07T23:59:59.999Z     Bitcoin  2013-05-07  "
      ]
     },
     "execution_count": 24,
     "metadata": {},
     "output_type": "execute_result"
    }
   ],
   "source": [
    "crypto.head()"
   ]
  },
  {
   "cell_type": "code",
   "execution_count": 25,
   "id": "9cac938a",
   "metadata": {},
   "outputs": [],
   "source": [
    "# Convert column types (e.g., date/time):\n",
    "crypto['timestamp'] = pd.to_datetime(crypto['timestamp'])\n",
    "crypto['date'] = pd.to_datetime(crypto['date'])\n"
   ]
  },
  {
   "cell_type": "code",
   "execution_count": 29,
   "id": "abc73d10",
   "metadata": {},
   "outputs": [
    {
     "data": {
      "text/plain": [
       "0"
      ]
     },
     "execution_count": 29,
     "metadata": {},
     "output_type": "execute_result"
    }
   ],
   "source": [
    "# Check for missing values and duplicates:\n",
    "\n",
    "crypto.isnull().sum()\n",
    "crypto.duplicated().sum()"
   ]
  },
  {
   "cell_type": "markdown",
   "id": "040931a4",
   "metadata": {},
   "source": [
    "##### No missing values found"
   ]
  },
  {
   "cell_type": "code",
   "execution_count": 30,
   "id": "3bce8869",
   "metadata": {},
   "outputs": [
    {
     "name": "stdout",
     "output_type": "stream",
     "text": [
      "<class 'pandas.core.frame.DataFrame'>\n",
      "RangeIndex: 72946 entries, 0 to 72945\n",
      "Data columns (total 9 columns):\n",
      " #   Column       Non-Null Count  Dtype              \n",
      "---  ------       --------------  -----              \n",
      " 0   open         72946 non-null  float64            \n",
      " 1   high         72946 non-null  float64            \n",
      " 2   low          72946 non-null  float64            \n",
      " 3   close        72946 non-null  float64            \n",
      " 4   volume       72946 non-null  float64            \n",
      " 5   marketCap    72946 non-null  float64            \n",
      " 6   timestamp    72946 non-null  datetime64[ns, UTC]\n",
      " 7   crypto_name  72946 non-null  object             \n",
      " 8   date         72946 non-null  datetime64[ns]     \n",
      "dtypes: datetime64[ns, UTC](1), datetime64[ns](1), float64(6), object(1)\n",
      "memory usage: 5.0+ MB\n"
     ]
    }
   ],
   "source": [
    "crypto.info()"
   ]
  },
  {
   "cell_type": "code",
   "execution_count": 34,
   "id": "3cbaaf81",
   "metadata": {},
   "outputs": [
    {
     "data": {
      "text/plain": [
       "crypto_name\n",
       "Bitcoin                  3248\n",
       "Litecoin                 3248\n",
       "XRP                      3157\n",
       "Dogecoin                 3024\n",
       "Monero                   2866\n",
       "Stellar                  2791\n",
       "Tether                   2582\n",
       "Ethereum                 2424\n",
       "Ethereum Classic         2072\n",
       "Basic Attention Token    1760\n",
       "EOS                      1730\n",
       "Bitcoin Cash             1708\n",
       "BNB                      1706\n",
       "TRON                     1656\n",
       "Decentraland             1652\n",
       "Chainlink                1649\n",
       "Cardano                  1638\n",
       "Maker                    1605\n",
       "Filecoin                 1565\n",
       "Theta Network            1530\n",
       "Huobi Token              1513\n",
       "Ravencoin                1478\n",
       "Tezos                    1365\n",
       "VeChain                  1332\n",
       "Quant                    1325\n",
       "USD Coin                 1266\n",
       "Cronos                   1199\n",
       "Wrapped Bitcoin          1152\n",
       "Cosmos                   1109\n",
       "Polygon                  1064\n",
       "OKB                      1062\n",
       "UNUS SED LEO             1041\n",
       "Algorand                 1010\n",
       "Chiliz                   1000\n",
       "THORChain                 978\n",
       "Terra Classic             975\n",
       "FTX Token                 969\n",
       "Hedera                    922\n",
       "Binance USD               919\n",
       "Dai                       857\n",
       "Solana                    718\n",
       "Shiba Inu                 608\n",
       "The Sandbox               595\n",
       "Polkadot                  589\n",
       "Elrond                    575\n",
       "Uniswap                   562\n",
       "Avalanche                 559\n",
       "Aave                      547\n",
       "NEAR Protocol             535\n",
       "Flow                      435\n",
       "Internet Computer         337\n",
       "Casper                    335\n",
       "Toncoin                   241\n",
       "Chain                      82\n",
       "ApeCoin                    80\n",
       "Aptos                       1\n",
       "Name: count, dtype: int64"
      ]
     },
     "execution_count": 34,
     "metadata": {},
     "output_type": "execute_result"
    }
   ],
   "source": [
    "crypto['crypto_name'].value_counts()"
   ]
  },
  {
   "cell_type": "code",
   "execution_count": 35,
   "id": "31ec17fa",
   "metadata": {},
   "outputs": [
    {
     "data": {
      "text/plain": [
       "(8.292e-11, 67566.8300878775)"
      ]
     },
     "execution_count": 35,
     "metadata": {},
     "output_type": "execute_result"
    }
   ],
   "source": [
    "crypto['close'].min(), crypto['close'].max()\n"
   ]
  },
  {
   "cell_type": "code",
   "execution_count": 39,
   "id": "eba9fc52",
   "metadata": {},
   "outputs": [
    {
     "data": {
      "image/png": "[encoded data removed]",
      "text/plain": [
       "<Figure size 1000x600 with 1 Axes>"
      ]
     },
     "metadata": {},
     "output_type": "display_data"
    }
   ],
   "source": [
    "import numpy as np\n",
    "import matplotlib.pyplot as plt\n",
    "\n",
    "# Use log scale for 'close' because the data range is extremely large \n",
    "# (from 8.29e-11 to 67,566). This compresses the values and makes the histogram readable.\n",
    "\n",
    "plt.figure(figsize=(10,6))\n",
    "sns.histplot(np.log1p(crypto['close']), bins=50, kde=True)\n",
    "plt.xlabel('Log(1 + Close Price)')\n",
    "plt.show()\n"
   ]
  },
  {
   "cell_type": "code",
   "execution_count": null,
   "id": "a6bf989c",
   "metadata": {},
   "outputs": [],
   "source": []
  }
 ],
 "metadata": {
  "kernelspec": {
   "display_name": "crypto_volatility_env",
   "language": "python",
   "name": "python3"
  },
  "language_info": {
   "codemirror_mode": {
    "name": "ipython",
    "version": 3
   },
   "file_extension": ".py",
   "mimetype": "text/x-python",
   "name": "python",
   "nbconvert_exporter": "python",
   "pygments_lexer": "ipython3",
   "version": "3.10.18"
  }
 },
 "nbformat": 4,
 "nbformat_minor": 5
}
